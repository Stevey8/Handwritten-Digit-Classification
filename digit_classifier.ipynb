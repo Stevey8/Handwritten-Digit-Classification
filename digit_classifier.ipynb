{
 "cells": [
  {
   "cell_type": "markdown",
   "metadata": {},
   "source": [
    "# Handwritten digit classification \n"
   ]
  },
  {
   "cell_type": "code",
   "execution_count": 9,
   "metadata": {},
   "outputs": [],
   "source": [
    "import data\n",
    "import pandas as pd\n",
    "import numpy as np\n",
    "import matplotlib.pyplot as plt\n",
    "import seaborn as sns\n",
    "\n",
    "import torch\n",
    "import torch.nn as nn\n",
    "import torch.optim as optim\n",
    "from torch.utils.data import DataLoader, TensorDataset\n"
   ]
  },
  {
   "cell_type": "markdown",
   "metadata": {},
   "source": [
    "## 0. load data"
   ]
  },
  {
   "cell_type": "code",
   "execution_count": 10,
   "metadata": {},
   "outputs": [
    {
     "data": {
      "image/png": "[encoded data removed]",
      "text/plain": [
       "<Figure size 640x480 with 1 Axes>"
      ]
     },
     "metadata": {},
     "output_type": "display_data"
    }
   ],
   "source": [
    "# load the data & plot the means\n",
    "train_data, train_labels, test_data, test_labels = data.load_all_data_from_zip('a3digits.zip','loaded_data/')\n",
    "# for i in [train_data, train_labels, test_data, test_labels]:\n",
    "#     print(i.shape)\n",
    "\n",
    "def plot_means(train_data, train_labels):\n",
    "    means = []\n",
    "    for i in range(0, 10):\n",
    "        i_digits = data.get_digits_by_label(train_data, train_labels, i)\n",
    "        # Compute mean of class i\n",
    "        means.append(np.mean(i_digits, axis=0).reshape(8,8))\n",
    "\n",
    "    # Plot all means on same axis\n",
    "    all_concat = np.concatenate(means, 1)\n",
    "    plt.imshow(all_concat, cmap='gray')\n",
    "    plt.yticks([])\n",
    "    plt.xticks(ticks=np.arange(0,73,8),labels=range(10))\n",
    "    plt.show()\n",
    "\n",
    "plot_means(train_data, train_labels)"
   ]
  },
  {
   "cell_type": "markdown",
   "metadata": {},
   "source": [
    "## 2. Conditional Gaussian Classifier Training\n",
    "### 2.a implementation of the conditional gaussian classifier"
   ]
  },
  {
   "cell_type": "code",
   "execution_count": 11,
   "metadata": {},
   "outputs": [],
   "source": [
    "# starter code & functions \n",
    "\n",
    "def make_train_df(train_data, train_labels):\n",
    "    data_df = pd.DataFrame(train_data)\n",
    "    labels_df = pd.DataFrame(train_labels, columns=['label'])\n",
    "    train_df = pd.concat([data_df, labels_df], axis=1)\n",
    "    return train_df\n",
    "\n",
    "def compute_mean_mles(train_data, train_labels):\n",
    "    '''\n",
    "    make sure the inputs are both np.arrays\n",
    "    Compute the mean estimate for each digit class\n",
    "\n",
    "    Should return a numpy array of size (10,64)\n",
    "    The ith row will correspond to the mean estimate for digit class i\n",
    "    '''\n",
    "    means = np.zeros((10, 64))\n",
    "    # Compute means\n",
    "    train_df = make_train_df(train_data,train_labels)\n",
    "    means = train_df.groupby('label').mean().sort_index().to_numpy()\n",
    "    return means # shape: (10,64); row 1 being 0 all the way to row 10 being 9\n",
    "\n",
    "def compute_sigma_mles(train_data, train_labels):\n",
    "    '''\n",
    "    Compute the covariance estimate for each digit class\n",
    "\n",
    "    Should return a three dimensional numpy array of shape (10, 64, 64)\n",
    "    consisting of a covariance matrix for each digit class \n",
    "    '''\n",
    "    covariances = np.zeros((10, 64, 64))\n",
    "    # Compute covariances\n",
    "    train_df = make_train_df(train_data,train_labels)\n",
    "    means = compute_mean_mles(train_data,train_labels) #(10,64)\n",
    "    for idx, (label, group) in enumerate(train_df.sort_values(by='label').reset_index(drop=True).groupby('label')):\n",
    "        # labels are sorted so groups are in ascending order\n",
    "        X = group.drop(columns='label') # (700*16)\n",
    "        N = X.shape[0] # 700 cases for every digit\n",
    "        cov = ((X-means[idx]).T @ (X-means[idx])) / N + 0.01*np.eye(64) # (64,64)\n",
    "        covariances[idx] = cov \n",
    "    return covariances\n",
    "\n",
    "def plot_cov_diagonal(covariances):\n",
    "    # Plot the log-diagonal of each covariance matrix side by side\n",
    "    fix,ax = plt.subplots(1,10,figsize=(15,1.5))\n",
    "    for i in range(10):\n",
    "        cov_diag = np.diag(covariances[i])\n",
    "        log_cov_diag = np.log(cov_diag) #(64,)\n",
    "        sns.heatmap(log_cov_diag.reshape(8,8), ax=ax[i], cmap='gray', cbar=False, xticklabels=False, yticklabels=False)\n",
    "        ax[i].set_title(f'{i}', fontsize=8)\n",
    "    plt.tight_layout()\n",
    "    plt.show()\n",
    "\n",
    "def generative_likelihood(digits, means, covariances):\n",
    "    '''\n",
    "    digits: basically the training data (7000*64)\n",
    "    means: the means of the 64 features of 10 digits, fro 0 to 9 (10*64)\n",
    "    covariancs: the cov matrices of the 10 digits, from 0 to 9 (10*64*64)\n",
    "\n",
    "    Compute the generative log-likelihood:\n",
    "        log p(x|y,mu,Sigma)\n",
    "\n",
    "    Should return an n x 10 numpy array (n=7000)\n",
    "    '''\n",
    "    n,d = digits.shape # (7000,64)\n",
    "    log_likelihoods = np.zeros((n,10))\n",
    "\n",
    "    for i in range(10):\n",
    "        mu = means[i] # (64,)\n",
    "        cov = covariances[i] # (64,64)\n",
    "        diff = digits - mu # (7000,64)\n",
    "        \n",
    "        # take the log on the gaussian pdf \n",
    "        # for the exponential term (-1/2 (x-mu)T cov-1 (x-mu)), rewrite it to the sum of (x-mu) @ cov-1 * (x-mu)\n",
    "        log_pdf = -d*np.log(2*np.pi)/2 - np.log(np.linalg.det(cov))/2 - np.sum(diff @ np.linalg.inv(cov) * diff, axis=1)/2 # (7000,)\n",
    "        log_likelihoods[:,i] = log_pdf\n",
    "\n",
    "    return log_likelihoods # (7000,10)\n",
    "\n",
    "def conditional_likelihood(digits, means, covariances):\n",
    "    '''\n",
    "    Compute the conditional likelihood:\n",
    "\n",
    "        log p(y|x, mu, Sigma)\n",
    "\n",
    "    This should be a numpy array of shape (n, 10); for training set, n = 7000; it should also be generalized to/usable for any test point\n",
    "    Where n is the number of datapoints and 10 corresponds to each digit class\n",
    "    '''\n",
    "\n",
    "    # log posterior = log prior + log likelihood - log marginal likelihood \n",
    "    log_likelihoods = generative_likelihood(digits,means,covariances) #(7000*10) for training set\n",
    "    log_prior = np.log(1/10) #scalar\n",
    "\n",
    "    # marginal likelihood = sum of prior*likelihood = sum of (exp(log prior + log likelihood))\n",
    "    # remember to put the log back for consistency (we're doing log for all {prior,likelihood,posterior} here)\n",
    "    log_marg = np.log(np.sum(np.exp(log_prior+log_likelihoods),axis=1)) #(7000,) for training\n",
    "\n",
    "    # use [:, np.newaxis] to broadcast the n values onto every column (each col has n rows)\n",
    "    log_post = log_prior + log_likelihoods - log_marg[:, np.newaxis]\n",
    "\n",
    "    return log_post #(n*10); in Bayesian sense it is the posterior, but we'll just call it log likelihood in general\n",
    "\n",
    "def avg_conditional_likelihood(digits, labels, means, covariances):\n",
    "    '''\n",
    "    Compute the average conditional likelihood over the true class labels\n",
    "\n",
    "        AVG( log p(y_i|x_i, mu, Sigma) )\n",
    "\n",
    "    i.e. the average log likelihood that the model assigns to the correct class label\n",
    "    '''\n",
    "    cond_likelihood = conditional_likelihood(digits, means, covariances)\n",
    "    df = pd.DataFrame(cond_likelihood)\n",
    "    df['label'] = labels \n",
    "\n",
    "    for idx, row in df.iterrows():\n",
    "        label = row['label']\n",
    "        row[:10] = np.where(row.index[:10] == label, row[:10], np.nan)\n",
    "    \n",
    "    df.drop(columns = 'label', inplace=True)\n",
    "    avg_log_likelihood= df.mean(skipna=True).to_numpy() #(10,) which is the avg of each digit\n",
    "\n",
    "    return avg_log_likelihood\n",
    "\n",
    "def classify_data(digits, means, covariances):\n",
    "    '''\n",
    "    Classify new points by taking the most likely posterior class\n",
    "\n",
    "    digits here can be a test set with arbitrary test points (n)\n",
    "    '''\n",
    "    cond_likelihood = conditional_likelihood(digits, means, covariances)\n",
    "    # Compute and return the most likely class\n",
    "    preds = np.argmax(cond_likelihood, axis=1) #(n,)\n",
    "    return preds \n",
    "\n",
    "def train_test_avg_nll(train_data, train_labels, test_data, test_labels):\n",
    "    # Fit the model\n",
    "    means = compute_mean_mles(train_data, train_labels)\n",
    "    covariances = compute_sigma_mles(train_data, train_labels)\n",
    " \n",
    "    train_avg_log_likelihood = avg_conditional_likelihood(train_data,train_labels,means,covariances)\n",
    "    test_avg_log_likelihood = avg_conditional_likelihood(test_data,test_labels,means,covariances)\n",
    "\n",
    "    return pd.DataFrame([train_avg_log_likelihood,test_avg_log_likelihood], index=['train','test'], columns=[i for i in range(10)])\n",
    "\n",
    "def eval(train_data, train_labels, test_data, test_labels):\n",
    "    # Fit the model\n",
    "    means = compute_mean_mles(train_data, train_labels)\n",
    "    covariances = compute_sigma_mles(train_data, train_labels)\n",
    "\n",
    "    # evaluations \n",
    "    preds_train = classify_data(train_data,means,covariances)\n",
    "    preds_test = classify_data(test_data,means,covariances)\n",
    "\n",
    "    train_acc = np.sum(preds_train==train_labels) / len(train_labels)\n",
    "    test_acc = np.sum(preds_test==test_labels) / len(test_labels)\n",
    "    return train_acc, test_acc"
   ]
  },
  {
   "cell_type": "markdown",
   "metadata": {},
   "source": [
    "### 2.b plot log diagonal elements for the cov matrix for each class (0~9)\n"
   ]
  },
  {
   "cell_type": "code",
   "execution_count": 12,
   "metadata": {},
   "outputs": [
    {
     "data": {
      "image/png": "[encoded data removed]",
      "text/plain": [
       "<Figure size 1500x150 with 10 Axes>"
      ]
     },
     "metadata": {},
     "output_type": "display_data"
    }
   ],
   "source": [
    "covariances = compute_sigma_mles(train_data,train_labels)\n",
    "plot_cov_diagonal(covariances)"
   ]
  },
  {
   "cell_type": "markdown",
   "metadata": {},
   "source": [
    "### 2.c compute the average conditional log-likelihood on both the train and test set"
   ]
  },
  {
   "cell_type": "code",
   "execution_count": 13,
   "metadata": {},
   "outputs": [
    {
     "data": {
      "text/html": [
       "<div>\n",
       "<style scoped>\n",
       "    .dataframe tbody tr th:only-of-type {\n",
       "        vertical-align: middle;\n",
       "    }\n",
       "\n",
       "    .dataframe tbody tr th {\n",
       "        vertical-align: top;\n",
       "    }\n",
       "\n",
       "    .dataframe thead th {\n",
       "        text-align: right;\n",
       "    }\n",
       "</style>\n",
       "<table border=\"1\" class=\"dataframe\">\n",
       "  <thead>\n",
       "    <tr style=\"text-align: right;\">\n",
       "      <th></th>\n",
       "      <th>0</th>\n",
       "      <th>1</th>\n",
       "      <th>2</th>\n",
       "      <th>3</th>\n",
       "      <th>4</th>\n",
       "      <th>5</th>\n",
       "      <th>6</th>\n",
       "      <th>7</th>\n",
       "      <th>8</th>\n",
       "      <th>9</th>\n",
       "    </tr>\n",
       "  </thead>\n",
       "  <tbody>\n",
       "    <tr>\n",
       "      <th>train</th>\n",
       "      <td>-68.442874</td>\n",
       "      <td>-70.139453</td>\n",
       "      <td>-41.622221</td>\n",
       "      <td>-50.828672</td>\n",
       "      <td>-69.972285</td>\n",
       "      <td>-54.308754</td>\n",
       "      <td>-72.067763</td>\n",
       "      <td>-94.208077</td>\n",
       "      <td>-41.303763</td>\n",
       "      <td>-75.369021</td>\n",
       "    </tr>\n",
       "    <tr>\n",
       "      <th>test</th>\n",
       "      <td>-67.037949</td>\n",
       "      <td>-68.695499</td>\n",
       "      <td>-40.308043</td>\n",
       "      <td>-49.778179</td>\n",
       "      <td>-68.327258</td>\n",
       "      <td>-53.148238</td>\n",
       "      <td>-70.308848</td>\n",
       "      <td>-92.552862</td>\n",
       "      <td>-40.186646</td>\n",
       "      <td>-73.971514</td>\n",
       "    </tr>\n",
       "  </tbody>\n",
       "</table>\n",
       "</div>"
      ],
      "text/plain": [
       "               0          1          2          3          4          5  \\\n",
       "train -68.442874 -70.139453 -41.622221 -50.828672 -69.972285 -54.308754   \n",
       "test  -67.037949 -68.695499 -40.308043 -49.778179 -68.327258 -53.148238   \n",
       "\n",
       "               6          7          8          9  \n",
       "train -72.067763 -94.208077 -41.303763 -75.369021  \n",
       "test  -70.308848 -92.552862 -40.186646 -73.971514  "
      ]
     },
     "execution_count": 13,
     "metadata": {},
     "output_type": "execute_result"
    }
   ],
   "source": [
    "train_test_avg_nll(train_data, train_labels, test_data, test_labels)"
   ]
  },
  {
   "cell_type": "markdown",
   "metadata": {},
   "source": [
    "### 2.d accuracy of train and test sets"
   ]
  },
  {
   "cell_type": "code",
   "execution_count": 14,
   "metadata": {},
   "outputs": [
    {
     "name": "stdout",
     "output_type": "stream",
     "text": [
      "train accuracy: 0.9814285714285714; test accuracy: 0.97275\n"
     ]
    }
   ],
   "source": [
    "train_acc, test_acc = eval(train_data, train_labels, test_data, test_labels)\n",
    "print(f'train accuracy: {train_acc}; test accuracy: {test_acc}')"
   ]
  },
  {
   "cell_type": "markdown",
   "metadata": {},
   "source": [
    "### 2.e visualization: in the test set, show both the correct and incorrect classifications "
   ]
  },
  {
   "cell_type": "code",
   "execution_count": 15,
   "metadata": {},
   "outputs": [],
   "source": [
    "def find_correct_incorrect(train_data, train_labels, test_data, test_labels):\n",
    "    # Fit the model\n",
    "    means = compute_mean_mles(train_data, train_labels)\n",
    "    covariances = compute_sigma_mles(train_data, train_labels)\n",
    "\n",
    "    # preds_test\n",
    "    preds = classify_data(test_data,means,covariances)\n",
    "\n",
    "    correct_mask = test_labels == preds\n",
    "    incorrect_mask = test_labels != preds\n",
    "\n",
    "    # find the first 5 correct/incorrect\n",
    "    correct_idx = np.where(correct_mask)[0][:5] \n",
    "    incorrect_idx = np.where(incorrect_mask)[0][:5]\n",
    "\n",
    "    # make sure test labels are int (not float; just for aesthetic purpose)\n",
    "    test_labels = test_labels.astype(int)\n",
    "    \n",
    "    # plot and print labels for correct preds\n",
    "    correct_data = test_data[correct_idx]\n",
    "    true_label_for_correct_data = test_labels[correct_idx]\n",
    "    pred_label_for_correct_data = preds[correct_idx]\n",
    "    fig, ax = plt.subplots(1,5,figsize = (10,2))\n",
    "    for i in range(5):\n",
    "        sns.heatmap(correct_data[i].reshape(8,8), ax = ax[i], cmap='gray', cbar=False, xticklabels=False, yticklabels=False)\n",
    "        ax[i].set_xlabel(f'true: {true_label_for_correct_data[i]}; pred:{pred_label_for_correct_data[i]}')\n",
    "    plt.suptitle('correct preds')\n",
    "    plt.tight_layout()\n",
    "    plt.show()\n",
    "\n",
    "    # plot and print labels for incorrect preds\n",
    "    incorrect_data = test_data[incorrect_idx]\n",
    "    true_label_for_incorrect_data = test_labels[incorrect_idx]\n",
    "    pred_label_for_incorrect_data = preds[incorrect_idx]\n",
    "    fig, ax = plt.subplots(1,5,figsize = (10,2))\n",
    "    for i in range(5):\n",
    "        sns.heatmap(incorrect_data[i].reshape(8,8), ax = ax[i], cmap='gray', cbar=False, xticklabels=False, yticklabels=False)\n",
    "        ax[i].set_xlabel(f'true: {true_label_for_incorrect_data[i]}; pred:{pred_label_for_incorrect_data[i]}')\n",
    "    plt.suptitle('incorrect preds')\n",
    "    plt.tight_layout()\n",
    "    plt.show()"
   ]
  },
  {
   "cell_type": "code",
   "execution_count": 16,
   "metadata": {},
   "outputs": [
    {
     "data": {
      "image/png": "[encoded data removed]",
      "text/plain": [
       "<Figure size 1000x200 with 5 Axes>"
      ]
     },
     "metadata": {},
     "output_type": "display_data"
    },
    {
     "data": {
      "image/png": "[encoded data removed]",
      "text/plain": [
       "<Figure size 1000x200 with 5 Axes>"
      ]
     },
     "metadata": {},
     "output_type": "display_data"
    }
   ],
   "source": [
    "find_correct_incorrect(train_data, train_labels, test_data, test_labels)"
   ]
  },
  {
   "cell_type": "code",
   "execution_count": null,
   "metadata": {},
   "outputs": [],
   "source": []
  },
  {
   "cell_type": "code",
   "execution_count": null,
   "metadata": {},
   "outputs": [],
   "source": []
  }
 ],
 "metadata": {
  "kernelspec": {
   "display_name": "cpsc330",
   "language": "python",
   "name": "python3"
  },
  "language_info": {
   "codemirror_mode": {
    "name": "ipython",
    "version": 3
   },
   "file_extension": ".py",
   "mimetype": "text/x-python",
   "name": "python",
   "nbconvert_exporter": "python",
   "pygments_lexer": "ipython3",
   "version": "3.10.0"
  }
 },
 "nbformat": 4,
 "nbformat_minor": 2
}
