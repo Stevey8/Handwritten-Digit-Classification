{
 "cells": [
  {
   "cell_type": "markdown",
   "metadata": {},
   "source": [
    "# Handwritten digit classification \n"
   ]
  },
  {
   "cell_type": "code",
   "execution_count": 18,
   "metadata": {},
   "outputs": [],
   "source": [
    "import data\n",
    "import pandas as pd\n",
    "import numpy as np\n",
    "import matplotlib.pyplot as plt\n",
    "import seaborn as sns\n",
    "\n",
    "import torch\n",
    "import torch.nn as nn\n",
    "import torch.optim as optim\n",
    "from torch.utils.data import DataLoader, TensorDataset\n",
    "from sklearn.model_selection import KFold\n"
   ]
  },
  {
   "cell_type": "markdown",
   "metadata": {},
   "source": [
    "## 0. load data"
   ]
  },
  {
   "cell_type": "code",
   "execution_count": 2,
   "metadata": {},
   "outputs": [
    {
     "data": {
      "image/png": "[encoded data removed]",
      "text/plain": [
       "<Figure size 640x480 with 1 Axes>"
      ]
     },
     "metadata": {},
     "output_type": "display_data"
    }
   ],
   "source": [
    "# load the data & plot the means\n",
    "train_data, train_labels, test_data, test_labels = data.load_all_data_from_zip('a3digits.zip','loaded_data/')\n",
    "# for i in [train_data, train_labels, test_data, test_labels]:\n",
    "#     print(i.shape)\n",
    "\n",
    "def plot_means(train_data, train_labels):\n",
    "    means = []\n",
    "    for i in range(0, 10):\n",
    "        i_digits = data.get_digits_by_label(train_data, train_labels, i)\n",
    "        # Compute mean of class i\n",
    "        means.append(np.mean(i_digits, axis=0).reshape(8,8))\n",
    "\n",
    "    # Plot all means on same axis\n",
    "    all_concat = np.concatenate(means, 1)\n",
    "    plt.imshow(all_concat, cmap='gray')\n",
    "    plt.yticks([])\n",
    "    plt.xticks(ticks=np.arange(0,73,8),labels=range(10))\n",
    "    plt.show()\n",
    "\n",
    "plot_means(train_data, train_labels)"
   ]
  },
  {
   "cell_type": "markdown",
   "metadata": {},
   "source": [
    "## 1. Conditional Gaussian Classifier Training\n",
    "### 1.a classifier implementation"
   ]
  },
  {
   "cell_type": "code",
   "execution_count": 3,
   "metadata": {},
   "outputs": [],
   "source": [
    "#TODO: ADD MATHEMATICAL INTERPRETATIONS \n",
    "\n",
    "# classifier implementation \n",
    "\n",
    "def compute_mean_mles(train_data, train_labels):\n",
    "    '''\n",
    "    make sure the inputs are both np.arrays\n",
    "    Compute the mean estimate for each digit class\n",
    "\n",
    "    Should return a numpy array of size (10,64)\n",
    "    The ith row will correspond to the mean estimate for digit class i\n",
    "    '''\n",
    "    means = np.zeros((10, 64))\n",
    "    # Compute means\n",
    "    for k in range(10):\n",
    "        class_k = train_data[train_labels == k]\n",
    "        means[k] = np.mean(class_k, axis=0)\n",
    "    return means # shape: (10,64); row 1 being 0 all the way to row 10 being 9\n",
    "\n",
    "def compute_sigma_mles(train_data, train_labels):\n",
    "    '''\n",
    "    Compute the covariance estimate for each digit class\n",
    "\n",
    "    Should return a three dimensional numpy array of shape (10, 64, 64)\n",
    "    consisting of a covariance matrix for each digit class \n",
    "    '''\n",
    "    covariances = np.zeros((10, 64, 64))\n",
    "    # Compute covariances\n",
    "    means = compute_mean_mles(train_data,train_labels) #(10,64)\n",
    "    for k in range(10):\n",
    "        class_k = train_data[train_labels==k]\n",
    "        N = class_k.shape[0] # 700 cases for every digit \n",
    "        cov = ((class_k-means[k]).T @ (class_k-means[k])) / N + 0.01*np.eye(64) # (64,64)\n",
    "        covariances[k] = cov \n",
    "    return covariances\n",
    "\n",
    "def plot_cov_diagonal(covariances):\n",
    "    # Plot the log-diagonal of each covariance matrix side by side\n",
    "    fig,ax = plt.subplots(1,10,figsize=(15,1.5))\n",
    "    for i in range(10):\n",
    "        cov_diag = np.diag(covariances[i])\n",
    "        log_cov_diag = np.log(cov_diag) #(64,)\n",
    "        sns.heatmap(log_cov_diag.reshape(8,8), ax=ax[i], cmap='gray', cbar=False, xticklabels=False, yticklabels=False)\n",
    "        ax[i].set_title(f'{i}', fontsize=8)\n",
    "    plt.tight_layout()\n",
    "    plt.show()\n",
    "\n",
    "def generative_likelihood(digits, means, covariances):\n",
    "    '''\n",
    "    digits: basically the training data (7000*64)\n",
    "    means: the means of the 64 features of 10 digits, fro 0 to 9 (10*64)\n",
    "    covariancs: the cov matrices of the 10 digits, from 0 to 9 (10*64*64)\n",
    "\n",
    "    Compute the generative (negative) log-likelihood:\n",
    "        -log p(x|y,mu,Sigma)\n",
    "\n",
    "    Should return an n x 10 numpy array (n = digits.shape[0]; for training set it is 7000)\n",
    "    '''\n",
    "    n,d = digits.shape # (7000,64) for training set\n",
    "    neg_log_likelihoods = np.zeros((n,10))\n",
    "\n",
    "    for i in range(10):\n",
    "        mu = means[i] # (64,)\n",
    "        cov = covariances[i] # (64,64)\n",
    "        diff = digits - mu # (7000,64)\n",
    "        \n",
    "        # take the log on the gaussian pdf \n",
    "        # for the exponential term (-1/2 (x-mu)T cov-1 (x-mu)), rewrite it to the sum of (x-mu) @ cov-1 * (x-mu)\n",
    "        log_pdf = -d*np.log(2*np.pi)/2 - np.log(np.linalg.det(cov))/2 - np.sum(diff @ np.linalg.inv(cov) * diff, axis=1)/2 # (7000,)\n",
    "        neg_log_likelihoods[:,i] = log_pdf\n",
    "\n",
    "    return neg_log_likelihoods # (7000,10)\n",
    "\n",
    "def conditional_likelihood(digits, means, covariances):\n",
    "    '''\n",
    "    Compute the (negative) conditional likelihood:\n",
    "\n",
    "        (neg) log p(y|x, mu, Sigma)\n",
    "\n",
    "    This should be a numpy array of shape (n, 10); for training set, n = 7000; it should also be generalized to/usable for any test point\n",
    "    Where n is the number of datapoints and 10 corresponds to each digit class\n",
    "    '''\n",
    "\n",
    "    neg_log_likelihoods = generative_likelihood(digits,means,covariances) #(7000*10) for training set\n",
    "    prior = 1/10 # scalar \n",
    "    \n",
    "    # post = prior * likelihood, normalized by the sum \n",
    "    likelihoods = np.exp(-neg_log_likelihoods)\n",
    "    protopost = prior * likelihoods\n",
    "    normalization = np.sum(protopost, axis=1)[:,np.newaxis]\n",
    "    post = protopost / normalization\n",
    "    # return NLL\n",
    "    return -np.log(post)\n",
    "\n",
    "def avg_conditional_likelihood(digits, labels, means, covariances):\n",
    "    '''\n",
    "    Compute the average conditional likelihood over the true class labels\n",
    "\n",
    "        AVG( log p(y_i|x_i, mu, Sigma) )\n",
    "\n",
    "    i.e. the average log likelihood that the model assigns to the correct class label\n",
    "    '''\n",
    "    cond_nll = conditional_likelihood(digits, means, covariances) #(n,10)\n",
    "    avg_nll = np.zeros(10) #(10,)\n",
    "    for k in range(10):\n",
    "        class_k = cond_nll[labels==k]\n",
    "        mean = np.mean(class_k[:,k])\n",
    "        avg_nll[k] = mean\n",
    "    return avg_nll\n",
    "\n",
    "def classify_data(digits, means, covariances):\n",
    "    '''\n",
    "    Classify new points by taking the most likely posterior class\n",
    "\n",
    "    digits here can be a test set with arbitrary test points (n)\n",
    "    '''\n",
    "    cond_nll = conditional_likelihood(digits, means, covariances)\n",
    "    # Compute and return the most likely class\n",
    "    preds = np.argmax(cond_nll, axis=1) #(n,)\n",
    "    return preds \n",
    "\n",
    "def train_test_avg_nll(train_data, train_labels, test_data, test_labels):\n",
    "    # Fit the model\n",
    "    means = compute_mean_mles(train_data, train_labels)\n",
    "    covariances = compute_sigma_mles(train_data, train_labels)\n",
    " \n",
    "    train_avg_nll = avg_conditional_likelihood(train_data,train_labels,means,covariances)\n",
    "    test_avg_nll = avg_conditional_likelihood(test_data,test_labels,means,covariances)\n",
    "\n",
    "    return pd.DataFrame([train_avg_nll,test_avg_nll], index=['train','test'], columns=[i for i in range(10)])\n",
    "\n",
    "def eval(train_data, train_labels, test_data, test_labels):\n",
    "    # Fit the model\n",
    "    means = compute_mean_mles(train_data, train_labels)\n",
    "    covariances = compute_sigma_mles(train_data, train_labels)\n",
    "\n",
    "    # evaluations \n",
    "    preds_train = classify_data(train_data,means,covariances)\n",
    "    preds_test = classify_data(test_data,means,covariances)\n",
    "\n",
    "    train_acc = np.sum(preds_train==train_labels) / len(train_labels)\n",
    "    test_acc = np.sum(preds_test==test_labels) / len(test_labels)\n",
    "    return train_acc, test_acc"
   ]
  },
  {
   "cell_type": "markdown",
   "metadata": {},
   "source": [
    "### 1.b plot log diagonal elements for the cov matrix for each class (0~9)\n"
   ]
  },
  {
   "cell_type": "code",
   "execution_count": 4,
   "metadata": {},
   "outputs": [
    {
     "data": {
      "image/png": "[encoded data removed]",
      "text/plain": [
       "<Figure size 1500x150 with 10 Axes>"
      ]
     },
     "metadata": {},
     "output_type": "display_data"
    }
   ],
   "source": [
    "covariances = compute_sigma_mles(train_data,train_labels)\n",
    "plot_cov_diagonal(covariances)"
   ]
  },
  {
   "cell_type": "markdown",
   "metadata": {},
   "source": [
    "### 1.c compute the average conditional log-likelihood on both the train and test set"
   ]
  },
  {
   "cell_type": "code",
   "execution_count": 5,
   "metadata": {},
   "outputs": [
    {
     "data": {
      "text/html": [
       "<div>\n",
       "<style scoped>\n",
       "    .dataframe tbody tr th:only-of-type {\n",
       "        vertical-align: middle;\n",
       "    }\n",
       "\n",
       "    .dataframe tbody tr th {\n",
       "        vertical-align: top;\n",
       "    }\n",
       "\n",
       "    .dataframe thead th {\n",
       "        text-align: right;\n",
       "    }\n",
       "</style>\n",
       "<table border=\"1\" class=\"dataframe\">\n",
       "  <thead>\n",
       "    <tr style=\"text-align: right;\">\n",
       "      <th></th>\n",
       "      <th>0</th>\n",
       "      <th>1</th>\n",
       "      <th>2</th>\n",
       "      <th>3</th>\n",
       "      <th>4</th>\n",
       "      <th>5</th>\n",
       "      <th>6</th>\n",
       "      <th>7</th>\n",
       "      <th>8</th>\n",
       "      <th>9</th>\n",
       "    </tr>\n",
       "  </thead>\n",
       "  <tbody>\n",
       "    <tr>\n",
       "      <th>train</th>\n",
       "      <td>170.425688</td>\n",
       "      <td>129.811592</td>\n",
       "      <td>115.880479</td>\n",
       "      <td>118.929064</td>\n",
       "      <td>100.923172</td>\n",
       "      <td>113.610387</td>\n",
       "      <td>195.700517</td>\n",
       "      <td>123.177629</td>\n",
       "      <td>99.269592</td>\n",
       "      <td>121.756419</td>\n",
       "    </tr>\n",
       "    <tr>\n",
       "      <th>test</th>\n",
       "      <td>164.074030</td>\n",
       "      <td>124.916090</td>\n",
       "      <td>116.803622</td>\n",
       "      <td>116.901135</td>\n",
       "      <td>98.828264</td>\n",
       "      <td>110.687617</td>\n",
       "      <td>197.198026</td>\n",
       "      <td>122.924547</td>\n",
       "      <td>99.125737</td>\n",
       "      <td>120.418343</td>\n",
       "    </tr>\n",
       "  </tbody>\n",
       "</table>\n",
       "</div>"
      ],
      "text/plain": [
       "                0           1           2           3           4           5  \\\n",
       "train  170.425688  129.811592  115.880479  118.929064  100.923172  113.610387   \n",
       "test   164.074030  124.916090  116.803622  116.901135   98.828264  110.687617   \n",
       "\n",
       "                6           7          8           9  \n",
       "train  195.700517  123.177629  99.269592  121.756419  \n",
       "test   197.198026  122.924547  99.125737  120.418343  "
      ]
     },
     "execution_count": 5,
     "metadata": {},
     "output_type": "execute_result"
    }
   ],
   "source": [
    "train_test_avg_nll(train_data, train_labels, test_data, test_labels)"
   ]
  },
  {
   "cell_type": "markdown",
   "metadata": {},
   "source": [
    "### 1.d train and test accuracy"
   ]
  },
  {
   "cell_type": "code",
   "execution_count": 6,
   "metadata": {},
   "outputs": [
    {
     "name": "stdout",
     "output_type": "stream",
     "text": [
      "train accuracy: 0.9814285714285714; test accuracy: 0.97275\n"
     ]
    }
   ],
   "source": [
    "train_acc, test_acc = eval(train_data, train_labels, test_data, test_labels)\n",
    "print(f'train accuracy: {train_acc}; test accuracy: {test_acc}')"
   ]
  },
  {
   "cell_type": "markdown",
   "metadata": {},
   "source": [
    "### 1.e visualization: in the test set, show both the correct and incorrect classifications "
   ]
  },
  {
   "cell_type": "code",
   "execution_count": 7,
   "metadata": {},
   "outputs": [],
   "source": [
    "def find_correct_incorrect(train_data, train_labels, test_data, test_labels, clf):\n",
    "    # Fit the model\n",
    "    if clf=='conditional_gaussian_classifier':\n",
    "        means = compute_mean_mles(train_data, train_labels)\n",
    "        covariances = compute_sigma_mles(train_data, train_labels)\n",
    "        # predict test\n",
    "        preds = classify_data(test_data,means,covariances)\n",
    "    elif clf=='naive_bayes_classifier': # functions are defined in the next part\n",
    "        eta = compute_parameters_nbc(train_data, train_labels)\n",
    "        # predict test\n",
    "        preds = classify_data_nbc(test_data,eta)\n",
    "    else:\n",
    "        raise ValueError(\"Invalid classifier specified. Use 'cgc' for Gaussian or 'nbc' for Naive Bayes.\")\n",
    "\n",
    "    correct_mask = test_labels == preds\n",
    "    incorrect_mask = test_labels != preds\n",
    "\n",
    "    # find the first 5 correct/incorrect\n",
    "    correct_idx = np.where(correct_mask)[0][:5] \n",
    "    incorrect_idx = np.where(incorrect_mask)[0][:5]\n",
    "\n",
    "    # make sure test labels are int (not float; just for aesthetic purpose)\n",
    "    test_labels = test_labels.astype(int)\n",
    "    \n",
    "    # plot and print labels for correct preds\n",
    "    correct_data = test_data[correct_idx]\n",
    "    true_label_for_correct_data = test_labels[correct_idx]\n",
    "    pred_label_for_correct_data = preds[correct_idx]\n",
    "    fig, ax = plt.subplots(1,5,figsize = (10,2))\n",
    "    for i in range(5):\n",
    "        sns.heatmap(correct_data[i].reshape(8,8), ax = ax[i], cmap='gray', cbar=False, xticklabels=False, yticklabels=False)\n",
    "        ax[i].set_xlabel(f'true: {true_label_for_correct_data[i]}; pred:{pred_label_for_correct_data[i]}')\n",
    "    plt.suptitle('correct preds')\n",
    "    plt.tight_layout()\n",
    "    plt.show()\n",
    "\n",
    "    # plot and print labels for incorrect preds\n",
    "    incorrect_data = test_data[incorrect_idx]\n",
    "    true_label_for_incorrect_data = test_labels[incorrect_idx]\n",
    "    pred_label_for_incorrect_data = preds[incorrect_idx]\n",
    "    fig, ax = plt.subplots(1,5,figsize = (10,2))\n",
    "    for i in range(5):\n",
    "        sns.heatmap(incorrect_data[i].reshape(8,8), ax = ax[i], cmap='gray', cbar=False, xticklabels=False, yticklabels=False)\n",
    "        ax[i].set_xlabel(f'true: {true_label_for_incorrect_data[i]}; pred:{pred_label_for_incorrect_data[i]}')\n",
    "    plt.suptitle('incorrect preds')\n",
    "    plt.tight_layout()\n",
    "    plt.show()"
   ]
  },
  {
   "cell_type": "code",
   "execution_count": 8,
   "metadata": {},
   "outputs": [
    {
     "data": {
      "image/png": "[encoded data removed]",
      "text/plain": [
       "<Figure size 1000x200 with 5 Axes>"
      ]
     },
     "metadata": {},
     "output_type": "display_data"
    },
    {
     "data": {
      "image/png": "[encoded data removed]",
      "text/plain": [
       "<Figure size 1000x200 with 5 Axes>"
      ]
     },
     "metadata": {},
     "output_type": "display_data"
    }
   ],
   "source": [
    "find_correct_incorrect(train_data, train_labels, test_data, test_labels, \n",
    "                       clf='conditional_gaussian_classifier')"
   ]
  },
  {
   "cell_type": "markdown",
   "metadata": {},
   "source": [
    "## 2 Naive Bayes Classifier\n",
    "### 2.a. classifier implementation"
   ]
  },
  {
   "cell_type": "code",
   "execution_count": 9,
   "metadata": {},
   "outputs": [],
   "source": [
    "#TODO: ADD MATHEMATICAL INTERPRETATIONS \n",
    "\n",
    "# classifier implementation\n",
    "def binarize_data_nbc(pixel_values):\n",
    "    '''\n",
    "    Binarize the data by thresholding around 0.5\n",
    "    '''\n",
    "    return np.where(pixel_values > 0.5, 1.0, 0.0)\n",
    "\n",
    "def compute_parameters_nbc(train_data, train_labels):\n",
    "    '''\n",
    "    Compute the eta MAP estimate/MLE with augmented data\n",
    "\n",
    "    You should return a numpy array of shape (10, 64)\n",
    "    where the ith row corresponds to the ith digit class.\n",
    "    '''\n",
    "    train_data = binarize_data_nbc(train_data)\n",
    "    eta = np.zeros((10, 64))\n",
    "\n",
    "    # goal: calculate the MAP (eta) of each bernoulli feature for each digit \n",
    "    # location is denoted as (k,j) where k is digit (0~9) and j is binarized feature (1~64)\n",
    "    # prior: p(eta_kj) = Beta(2,2)\n",
    "    # likelihood for a single b feature p(b_j = 1 | y = k) = eta_kj\n",
    "    # likewise, if b_j = 0, p(b_j = 0 | y = k) = (1-eta_kj)\n",
    "    # so for an image that has 64 features, the aggregated likelihood p(b|y=k,eta) = prod^64_j=1 eta_kj^{b_j} (1-eta_kj)^(1-{b_j})\n",
    "    # so whenever b_j is 1, we multiply the prod by eta_kj\n",
    "    # and if b_j is 0, we multiply the prod by (1-eta_kj)\n",
    "\n",
    "    # after some calculation, we reach the result of posterior\n",
    "    # process see Lec7 slides 44,45\n",
    "    # long story short, the posterior eta_hat_MAP = (S_kj + a - 1) / (N_k + a + b - 2)\n",
    "    # S_kj is the sum of jth B feature being 1 for class k (in this case we get 700 imgs each)\n",
    "    # N_k is the total case of class k (so = 700)\n",
    "    # also in this problem, we have a = b = 2\n",
    "    # therefore, the MAP is (S_kj + 1) / (N_k + 2)\n",
    "\n",
    "    for k in range(10):\n",
    "        class_k = train_data[train_labels == k]\n",
    "        # S_kj (for class k at jth b feature) is essentially just the sum of each feature across all (700) samples (axis=0)\n",
    "        # because they are either 1 or 0, that's why we just need to sum them up\n",
    "        N_k = class_k.shape[0]\n",
    "        eta[k] = (np.sum(class_k, axis=0) + 1) / (N_k + 2)      \n",
    "    return eta\n",
    "\n",
    "def plot_images_nbc(class_images):\n",
    "    '''\n",
    "    Plot each of the images corresponding to each class side by side in grayscale\n",
    "    class_images: the eta (10*64) from above\n",
    "    '''\n",
    "    fig,ax = plt.subplots(1,10,figsize=(15,1.5))\n",
    "    for i in range(10):\n",
    "        img_i = class_images[i]\n",
    "        sns.heatmap(img_i.reshape(8,8), ax = ax[i], cmap='gray', cbar=False, xticklabels=False, yticklabels=False)\n",
    "        ax[i].set_title(f'{i}', fontsize=8)\n",
    "    plt.tight_layout()\n",
    "    plt.show()\n",
    "\n",
    "def generate_new_data_nbc(eta):\n",
    "    '''\n",
    "    Sample a new data point from your generative distribution p(x|y,theta) for\n",
    "    each value of y in the range 0...10\n",
    "\n",
    "    Plot these values\n",
    "    '''\n",
    "    np.random.seed(69)\n",
    "    generated_data = np.zeros((10, 64))\n",
    "\n",
    "    for k in range(10):\n",
    "        generated_data[k] = np.random.binomial(1,eta[k])\n",
    "\n",
    "    fig, ax = plt.subplots(1,10,figsize=(15,1.5))\n",
    "    for i in range(10):\n",
    "        sns.heatmap(generated_data[i].reshape(8,8), ax=ax[i], cmap='gray', cbar=False, xticklabels=False, yticklabels=False)\n",
    "        ax[i].set_title(f'{i}', fontsize=8)\n",
    "    plt.tight_layout()\n",
    "    plt.show()\n",
    "\n",
    "def generative_likelihood_nbc(bin_digits, eta):\n",
    "    '''\n",
    "    Compute the generative (negative) log-likelihood:\n",
    "        -log p(x|y, eta)\n",
    "\n",
    "    Should return an n x 10 numpy array \n",
    "    '''\n",
    "    # Clip eta to avoid log(0) errors\n",
    "    eta = np.clip(eta, 1e-10, 1 - 1e-10)\n",
    "\n",
    "    # p(b|y=k, eta) = Prod(j=1~d) eta_kj^bj (1-eta_kj)^(1-bj)\n",
    "    #     # log p = log(eta) * # of (bj=1) + log(1-eta) * # of (bj=0)\n",
    "    #     # in matrix form: \n",
    "    #     # bin_digits @ log(eta) + (1-bin_digits) @ log(1-eta)\n",
    "    #     # since we are doing NLL, flip all the plus signs \n",
    "\n",
    "    neg_log_likelihoods = - bin_digits @ np.log(eta.T) - (1-bin_digits) @ np.log((1-eta).T)\n",
    "    return neg_log_likelihoods #(n,10)\n",
    "\n",
    "def conditional_likelihood_nbc(bin_digits, eta):\n",
    "    '''\n",
    "    Compute the conditional likelihood:\n",
    "\n",
    "        log p(y|x, eta)\n",
    "\n",
    "    This should be a numpy array of shape (n, 10)\n",
    "    Where n is the number of datapoints and 10 corresponds to each digit class\n",
    "    '''\n",
    "    # do the same thing as what have been done in gaussian clf\n",
    "    neg_log_likelihoods = generative_likelihood_nbc(bin_digits, eta) #(n,10)\n",
    "    prior = 1/10 # scalar \n",
    "    likelihoods = np.exp(-neg_log_likelihoods)\n",
    "    protopost = prior * likelihoods\n",
    "\n",
    "    if bin_digits.ndim==1: # if theres only one case \n",
    "        normalization = np.sum(protopost)\n",
    "    else:\n",
    "        normalization = np.sum(protopost, axis=1)[:,np.newaxis]\n",
    "    post = protopost / normalization\n",
    "    return post #(n,10)\n",
    "\n",
    "\n",
    "def avg_conditional_likelihood_nbc(bin_digits, labels, eta):\n",
    "    '''\n",
    "    Compute the average conditional likelihood over the true class labels\n",
    "\n",
    "        AVG( log p(y_i|x_i, eta) )\n",
    "\n",
    "    i.e. the average log likelihood that the model assigns to the correct class label\n",
    "    '''\n",
    "    cond_nll = conditional_likelihood_nbc(bin_digits, eta)\n",
    "\n",
    "    avg_nll = np.zeros(10) #(10,)\n",
    "    for k in range(10):\n",
    "        class_k = cond_nll[labels==k]\n",
    "        mean = np.mean(class_k[:,k])\n",
    "        avg_nll[k] = mean\n",
    "    return avg_nll\n",
    "\n",
    "def classify_data_nbc(bin_digits, eta):\n",
    "    '''\n",
    "    Classify new points by taking the most likely posterior class\n",
    "    '''\n",
    "    cond_nll = conditional_likelihood_nbc(bin_digits, eta) ##(n,10)\n",
    "\n",
    "    # Compute and return the most likely class\n",
    "    if bin_digits.ndim==1: # if there's only one test case\n",
    "        preds = np.argmax(cond_nll) #(1,)\n",
    "    else:\n",
    "        preds = np.argmax(cond_nll, axis=1) #(n,)\n",
    "    return preds \n",
    "\n",
    "def train_test_avg_nll_nbc(train_data, train_labels, test_data, test_labels):\n",
    "    # Fit the model\n",
    "    train_data = binarize_data_nbc(train_data)\n",
    "    test_data = binarize_data_nbc(test_data)\n",
    "    eta = compute_parameters_nbc(train_data, train_labels)\n",
    "\n",
    "    train_avg_nll = avg_conditional_likelihood_nbc(train_data,train_labels,eta)\n",
    "    test_avg_nll = avg_conditional_likelihood_nbc(test_data,test_labels,eta)\n",
    "\n",
    "    return pd.DataFrame([train_avg_nll,test_avg_nll], index=['train','test'], columns=[i for i in range(10)])\n",
    "\n",
    "def eval_nbc(train_data, train_labels, test_data, test_labels):\n",
    "    # Fit the model\n",
    "    train_data = binarize_data_nbc(train_data)\n",
    "    test_data = binarize_data_nbc(test_data)\n",
    "    eta = compute_parameters_nbc(train_data, train_labels)\n",
    "\n",
    "    # evaluations \n",
    "    preds_train = classify_data_nbc(train_data,eta)\n",
    "    preds_test = classify_data_nbc(test_data,eta)\n",
    "\n",
    "    train_acc = np.sum(preds_train==train_labels) / len(train_labels)\n",
    "    test_acc = np.sum(preds_test==test_labels) / len(test_labels)\n",
    "    return train_acc, test_acc"
   ]
  },
  {
   "cell_type": "markdown",
   "metadata": {},
   "source": [
    "### 2.b binarize train data"
   ]
  },
  {
   "cell_type": "code",
   "execution_count": 10,
   "metadata": {},
   "outputs": [
    {
     "name": "stdout",
     "output_type": "stream",
     "text": [
      "[[0.   0.   0.   0.   0.   0.   0.15 0.66]\n",
      " [0.   0.   0.   0.   0.   0.25 0.7  0.2 ]\n",
      " [0.   0.   0.   0.   0.42 0.54 0.01 0.  ]\n",
      " [0.   0.   0.04 0.6  0.45 0.   0.   0.  ]\n",
      " [0.   0.09 0.71 0.24 0.   0.   0.   0.  ]\n",
      " [0.14 0.7  0.09 0.22 0.63 0.8  0.52 0.  ]\n",
      " [0.7  0.11 0.1  0.76 0.27 0.44 0.31 0.  ]\n",
      " [0.5  0.44 0.62 0.64 0.39 0.08 0.   0.  ]] \n",
      "\n",
      "[[0. 0. 0. 0. 0. 0. 0. 1.]\n",
      " [0. 0. 0. 0. 0. 0. 1. 0.]\n",
      " [0. 0. 0. 0. 0. 1. 0. 0.]\n",
      " [0. 0. 0. 1. 0. 0. 0. 0.]\n",
      " [0. 0. 1. 0. 0. 0. 0. 0.]\n",
      " [0. 1. 0. 0. 1. 1. 1. 0.]\n",
      " [1. 0. 0. 1. 0. 0. 0. 0.]\n",
      " [0. 0. 1. 1. 0. 0. 0. 0.]] \n",
      "\n"
     ]
    },
    {
     "data": {
      "image/png": "[encoded data removed]",
      "text/plain": [
       "<Figure size 400x200 with 2 Axes>"
      ]
     },
     "metadata": {},
     "output_type": "display_data"
    }
   ],
   "source": [
    "binarized_train_data = binarize_data_nbc(train_data)\n",
    "\n",
    "# visualize to check\n",
    "original_binary = [train_data[0].reshape(8,8),binarized_train_data[0].reshape(8,8)]\n",
    "fig, ax = plt.subplots(1,2, figsize=(4,2))\n",
    "for i in range(2):\n",
    "    print(original_binary[i],'\\n')\n",
    "    sns.heatmap(original_binary[i].reshape(8,8), ax = ax[i], cmap='gray', cbar=False, xticklabels=False, yticklabels=False)\n",
    "plt.tight_layout()\n",
    "plt.show()"
   ]
  },
  {
   "cell_type": "markdown",
   "metadata": {},
   "source": [
    "### 2.c.i train a bernoulli naive bayes classifier using MAP "
   ]
  },
  {
   "cell_type": "code",
   "execution_count": 11,
   "metadata": {},
   "outputs": [
    {
     "data": {
      "text/plain": [
       "(10, 64)"
      ]
     },
     "execution_count": 11,
     "metadata": {},
     "output_type": "execute_result"
    }
   ],
   "source": [
    "eta = compute_parameters_nbc(train_data, train_labels)\n",
    "eta.shape"
   ]
  },
  {
   "cell_type": "markdown",
   "metadata": {},
   "source": [
    "### 2.c.ii prior as pseudo counts\n",
    "(still working on it; will also need to explain why adding these two special cases (refer to A3 document))"
   ]
  },
  {
   "cell_type": "code",
   "execution_count": 12,
   "metadata": {},
   "outputs": [],
   "source": [
    "# TODO \n",
    "def compute_parameters_nbc_new(train_data, train_labels):\n",
    "    '''\n",
    "    Instead of explicitly considering the Beta distribution prior in the Bernoulli likelihood model, \n",
    "    you can add two training cases to your data set for each class, \n",
    "    one of which has every pixels OFF and the other has every pixels ON. \n",
    "    Make sure you understand why this is equivalent to using a prior.\n",
    "    '''    \n",
    "    return None\n",
    "train_data = binarize_data_nbc(train_data)\n",
    "# TODO: reasoning"
   ]
  },
  {
   "cell_type": "markdown",
   "metadata": {},
   "source": [
    "### 2.d plot eta_k (without the 2 extra cases) "
   ]
  },
  {
   "cell_type": "code",
   "execution_count": 13,
   "metadata": {},
   "outputs": [
    {
     "data": {
      "image/png": "[encoded data removed]",
      "text/plain": [
       "<Figure size 1500x150 with 10 Axes>"
      ]
     },
     "metadata": {},
     "output_type": "display_data"
    }
   ],
   "source": [
    "plot_images_nbc(eta)"
   ]
  },
  {
   "cell_type": "markdown",
   "metadata": {},
   "source": [
    "### 2.e sample one new data point using the gen model for each class"
   ]
  },
  {
   "cell_type": "code",
   "execution_count": 14,
   "metadata": {},
   "outputs": [
    {
     "data": {
      "image/png": "[encoded data removed]",
      "text/plain": [
       "<Figure size 1500x150 with 10 Axes>"
      ]
     },
     "metadata": {},
     "output_type": "display_data"
    }
   ],
   "source": [
    "generate_new_data_nbc(eta)"
   ]
  },
  {
   "cell_type": "markdown",
   "metadata": {},
   "source": [
    "### 2.f average conditional log likelihood "
   ]
  },
  {
   "cell_type": "code",
   "execution_count": 15,
   "metadata": {},
   "outputs": [
    {
     "data": {
      "text/html": [
       "<div>\n",
       "<style scoped>\n",
       "    .dataframe tbody tr th:only-of-type {\n",
       "        vertical-align: middle;\n",
       "    }\n",
       "\n",
       "    .dataframe tbody tr th {\n",
       "        vertical-align: top;\n",
       "    }\n",
       "\n",
       "    .dataframe thead th {\n",
       "        text-align: right;\n",
       "    }\n",
       "</style>\n",
       "<table border=\"1\" class=\"dataframe\">\n",
       "  <thead>\n",
       "    <tr style=\"text-align: right;\">\n",
       "      <th></th>\n",
       "      <th>0</th>\n",
       "      <th>1</th>\n",
       "      <th>2</th>\n",
       "      <th>3</th>\n",
       "      <th>4</th>\n",
       "      <th>5</th>\n",
       "      <th>6</th>\n",
       "      <th>7</th>\n",
       "      <th>8</th>\n",
       "      <th>9</th>\n",
       "    </tr>\n",
       "  </thead>\n",
       "  <tbody>\n",
       "    <tr>\n",
       "      <th>train</th>\n",
       "      <td>0.878137</td>\n",
       "      <td>0.76552</td>\n",
       "      <td>0.722712</td>\n",
       "      <td>0.781650</td>\n",
       "      <td>0.758870</td>\n",
       "      <td>0.697034</td>\n",
       "      <td>0.832115</td>\n",
       "      <td>0.729780</td>\n",
       "      <td>0.655897</td>\n",
       "      <td>0.659850</td>\n",
       "    </tr>\n",
       "    <tr>\n",
       "      <th>test</th>\n",
       "      <td>0.846944</td>\n",
       "      <td>0.78222</td>\n",
       "      <td>0.703276</td>\n",
       "      <td>0.750858</td>\n",
       "      <td>0.747925</td>\n",
       "      <td>0.691121</td>\n",
       "      <td>0.816955</td>\n",
       "      <td>0.733048</td>\n",
       "      <td>0.677774</td>\n",
       "      <td>0.645347</td>\n",
       "    </tr>\n",
       "  </tbody>\n",
       "</table>\n",
       "</div>"
      ],
      "text/plain": [
       "              0        1         2         3         4         5         6  \\\n",
       "train  0.878137  0.76552  0.722712  0.781650  0.758870  0.697034  0.832115   \n",
       "test   0.846944  0.78222  0.703276  0.750858  0.747925  0.691121  0.816955   \n",
       "\n",
       "              7         8         9  \n",
       "train  0.729780  0.655897  0.659850  \n",
       "test   0.733048  0.677774  0.645347  "
      ]
     },
     "execution_count": 15,
     "metadata": {},
     "output_type": "execute_result"
    }
   ],
   "source": [
    "train_test_avg_nll_nbc(train_data, train_labels, test_data, test_labels)"
   ]
  },
  {
   "cell_type": "markdown",
   "metadata": {},
   "source": [
    "### 2.g train and test accuracy"
   ]
  },
  {
   "cell_type": "code",
   "execution_count": 16,
   "metadata": {},
   "outputs": [
    {
     "name": "stdout",
     "output_type": "stream",
     "text": [
      "train accuracy: 0.7741428571428571; test accuracy: 0.76425\n"
     ]
    }
   ],
   "source": [
    "train_acc_nbc, test_acc_nbc = eval_nbc(train_data, train_labels, test_data, test_labels)\n",
    "print(f'train accuracy: {train_acc_nbc}; test accuracy: {test_acc_nbc}')"
   ]
  },
  {
   "cell_type": "markdown",
   "metadata": {},
   "source": [
    "### 2.h visualization: in the test set, show both the correct and incorrect classifications "
   ]
  },
  {
   "cell_type": "code",
   "execution_count": 17,
   "metadata": {},
   "outputs": [
    {
     "data": {
      "image/png": "[encoded data removed]",
      "text/plain": [
       "<Figure size 1000x200 with 5 Axes>"
      ]
     },
     "metadata": {},
     "output_type": "display_data"
    },
    {
     "data": {
      "image/png": "[encoded data removed]",
      "text/plain": [
       "<Figure size 1000x200 with 5 Axes>"
      ]
     },
     "metadata": {},
     "output_type": "display_data"
    }
   ],
   "source": [
    "find_correct_incorrect(train_data, train_labels, test_data, test_labels, \n",
    "                       clf='naive_bayes_classifier')"
   ]
  },
  {
   "cell_type": "code",
   "execution_count": null,
   "metadata": {},
   "outputs": [],
   "source": []
  }
 ],
 "metadata": {
  "kernelspec": {
   "display_name": "cpsc330",
   "language": "python",
   "name": "python3"
  },
  "language_info": {
   "codemirror_mode": {
    "name": "ipython",
    "version": 3
   },
   "file_extension": ".py",
   "mimetype": "text/x-python",
   "name": "python",
   "nbconvert_exporter": "python",
   "pygments_lexer": "ipython3",
   "version": "3.10.0"
  }
 },
 "nbformat": 4,
 "nbformat_minor": 2
}
